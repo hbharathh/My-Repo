{
 "cells": [
  {
   "cell_type": "markdown",
   "metadata": {},
   "source": [
    "### Data Extraction"
   ]
  },
  {
   "cell_type": "code",
   "execution_count": 1,
   "metadata": {},
   "outputs": [
    {
     "name": "stdout",
     "output_type": "stream",
     "text": [
      "[*********************100%***********************]  1 of 1 completed\n"
     ]
    },
    {
     "data": {
      "text/html": [
       "<div>\n",
       "<style scoped>\n",
       "    .dataframe tbody tr th:only-of-type {\n",
       "        vertical-align: middle;\n",
       "    }\n",
       "\n",
       "    .dataframe tbody tr th {\n",
       "        vertical-align: top;\n",
       "    }\n",
       "\n",
       "    .dataframe thead th {\n",
       "        text-align: right;\n",
       "    }\n",
       "</style>\n",
       "<table border=\"1\" class=\"dataframe\">\n",
       "  <thead>\n",
       "    <tr style=\"text-align: right;\">\n",
       "      <th></th>\n",
       "      <th>Open</th>\n",
       "      <th>High</th>\n",
       "      <th>Low</th>\n",
       "      <th>Close</th>\n",
       "      <th>Adj Close</th>\n",
       "      <th>Volume</th>\n",
       "    </tr>\n",
       "    <tr>\n",
       "      <th>Date</th>\n",
       "      <th></th>\n",
       "      <th></th>\n",
       "      <th></th>\n",
       "      <th></th>\n",
       "      <th></th>\n",
       "      <th></th>\n",
       "    </tr>\n",
       "  </thead>\n",
       "  <tbody>\n",
       "    <tr>\n",
       "      <th>2019-12-31</th>\n",
       "      <td>7294.438965</td>\n",
       "      <td>7335.290039</td>\n",
       "      <td>7169.777832</td>\n",
       "      <td>7193.599121</td>\n",
       "      <td>7193.599121</td>\n",
       "      <td>21167946112</td>\n",
       "    </tr>\n",
       "    <tr>\n",
       "      <th>2020-01-01</th>\n",
       "      <td>7194.892090</td>\n",
       "      <td>7254.330566</td>\n",
       "      <td>7174.944336</td>\n",
       "      <td>7200.174316</td>\n",
       "      <td>7200.174316</td>\n",
       "      <td>18565664997</td>\n",
       "    </tr>\n",
       "    <tr>\n",
       "      <th>2020-01-02</th>\n",
       "      <td>7202.551270</td>\n",
       "      <td>7212.155273</td>\n",
       "      <td>6935.270020</td>\n",
       "      <td>6985.470215</td>\n",
       "      <td>6985.470215</td>\n",
       "      <td>20802083465</td>\n",
       "    </tr>\n",
       "    <tr>\n",
       "      <th>2020-01-03</th>\n",
       "      <td>6984.428711</td>\n",
       "      <td>7413.715332</td>\n",
       "      <td>6914.996094</td>\n",
       "      <td>7344.884277</td>\n",
       "      <td>7344.884277</td>\n",
       "      <td>28111481032</td>\n",
       "    </tr>\n",
       "    <tr>\n",
       "      <th>2020-01-04</th>\n",
       "      <td>7345.375488</td>\n",
       "      <td>7427.385742</td>\n",
       "      <td>7309.514160</td>\n",
       "      <td>7410.656738</td>\n",
       "      <td>7410.656738</td>\n",
       "      <td>18444271275</td>\n",
       "    </tr>\n",
       "    <tr>\n",
       "      <th>...</th>\n",
       "      <td>...</td>\n",
       "      <td>...</td>\n",
       "      <td>...</td>\n",
       "      <td>...</td>\n",
       "      <td>...</td>\n",
       "      <td>...</td>\n",
       "    </tr>\n",
       "    <tr>\n",
       "      <th>2022-01-21</th>\n",
       "      <td>40699.605469</td>\n",
       "      <td>41060.527344</td>\n",
       "      <td>35791.425781</td>\n",
       "      <td>36457.316406</td>\n",
       "      <td>36457.316406</td>\n",
       "      <td>43011992031</td>\n",
       "    </tr>\n",
       "    <tr>\n",
       "      <th>2022-01-22</th>\n",
       "      <td>36471.589844</td>\n",
       "      <td>36688.812500</td>\n",
       "      <td>34349.250000</td>\n",
       "      <td>35030.250000</td>\n",
       "      <td>35030.250000</td>\n",
       "      <td>39714385405</td>\n",
       "    </tr>\n",
       "    <tr>\n",
       "      <th>2022-01-23</th>\n",
       "      <td>35047.359375</td>\n",
       "      <td>36433.312500</td>\n",
       "      <td>34784.968750</td>\n",
       "      <td>36276.804688</td>\n",
       "      <td>36276.804688</td>\n",
       "      <td>26017975951</td>\n",
       "    </tr>\n",
       "    <tr>\n",
       "      <th>2022-01-24</th>\n",
       "      <td>36275.734375</td>\n",
       "      <td>37247.519531</td>\n",
       "      <td>33184.058594</td>\n",
       "      <td>36654.328125</td>\n",
       "      <td>36654.328125</td>\n",
       "      <td>41856658597</td>\n",
       "    </tr>\n",
       "    <tr>\n",
       "      <th>2022-01-25</th>\n",
       "      <td>36654.804688</td>\n",
       "      <td>37444.570312</td>\n",
       "      <td>35779.429688</td>\n",
       "      <td>36954.003906</td>\n",
       "      <td>36954.003906</td>\n",
       "      <td>26428189594</td>\n",
       "    </tr>\n",
       "  </tbody>\n",
       "</table>\n",
       "<p>757 rows × 6 columns</p>\n",
       "</div>"
      ],
      "text/plain": [
       "                    Open          High           Low         Close  \\\n",
       "Date                                                                 \n",
       "2019-12-31   7294.438965   7335.290039   7169.777832   7193.599121   \n",
       "2020-01-01   7194.892090   7254.330566   7174.944336   7200.174316   \n",
       "2020-01-02   7202.551270   7212.155273   6935.270020   6985.470215   \n",
       "2020-01-03   6984.428711   7413.715332   6914.996094   7344.884277   \n",
       "2020-01-04   7345.375488   7427.385742   7309.514160   7410.656738   \n",
       "...                  ...           ...           ...           ...   \n",
       "2022-01-21  40699.605469  41060.527344  35791.425781  36457.316406   \n",
       "2022-01-22  36471.589844  36688.812500  34349.250000  35030.250000   \n",
       "2022-01-23  35047.359375  36433.312500  34784.968750  36276.804688   \n",
       "2022-01-24  36275.734375  37247.519531  33184.058594  36654.328125   \n",
       "2022-01-25  36654.804688  37444.570312  35779.429688  36954.003906   \n",
       "\n",
       "               Adj Close       Volume  \n",
       "Date                                   \n",
       "2019-12-31   7193.599121  21167946112  \n",
       "2020-01-01   7200.174316  18565664997  \n",
       "2020-01-02   6985.470215  20802083465  \n",
       "2020-01-03   7344.884277  28111481032  \n",
       "2020-01-04   7410.656738  18444271275  \n",
       "...                  ...          ...  \n",
       "2022-01-21  36457.316406  43011992031  \n",
       "2022-01-22  35030.250000  39714385405  \n",
       "2022-01-23  36276.804688  26017975951  \n",
       "2022-01-24  36654.328125  41856658597  \n",
       "2022-01-25  36954.003906  26428189594  \n",
       "\n",
       "[757 rows x 6 columns]"
      ]
     },
     "execution_count": 1,
     "metadata": {},
     "output_type": "execute_result"
    }
   ],
   "source": [
    "import numpy as np\n",
    "import pandas as pd\n",
    "import datetime\n",
    "%matplotlib inline\n",
    "import matplotlib.pyplot as plt\n",
    "import seaborn as sns\n",
    "plt.style.use('seaborn-darkgrid')\n",
    "plt.rc('figure', figsize=(16,10))\n",
    "plt.rc('lines', markersize=4)\n",
    "import pandas_datareader as web\n",
    "import yfinance as yfin\n",
    "data=yfin.download('BTC-USD',start='2020-01-01',end=\"2022-01-26\")\n",
    "data"
   ]
  },
  {
   "cell_type": "code",
   "execution_count": 2,
   "metadata": {},
   "outputs": [
    {
     "name": "stdout",
     "output_type": "stream",
     "text": [
      "<class 'pandas.core.frame.DataFrame'>\n",
      "DatetimeIndex: 757 entries, 2019-12-31 to 2022-01-25\n",
      "Data columns (total 1 columns):\n",
      " #   Column     Non-Null Count  Dtype  \n",
      "---  ------     --------------  -----  \n",
      " 0   Adj Close  757 non-null    float64\n",
      "dtypes: float64(1)\n",
      "memory usage: 11.8 KB\n",
      "               Adj Close\n",
      "Date                    \n",
      "2019-12-31   7193.599121\n",
      "2020-01-01   7200.174316\n",
      "2020-01-02   6985.470215\n",
      "2020-01-03   7344.884277\n",
      "2020-01-04   7410.656738\n",
      "...                  ...\n",
      "2022-01-21  36457.316406\n",
      "2022-01-22  35030.250000\n",
      "2022-01-23  36276.804688\n",
      "2022-01-24  36654.328125\n",
      "2022-01-25  36954.003906\n",
      "\n",
      "[757 rows x 1 columns]\n"
     ]
    }
   ],
   "source": [
    "df = pd.DataFrame(data, columns=['Adj Close'])\n",
    "df.head()\n",
    "df.info()\n",
    "df.isna().values.any()\n",
    "print(df)"
   ]
  },
  {
   "cell_type": "code",
   "execution_count": 3,
   "metadata": {},
   "outputs": [
    {
     "data": {
      "text/html": [
       "<div>\n",
       "<style scoped>\n",
       "    .dataframe tbody tr th:only-of-type {\n",
       "        vertical-align: middle;\n",
       "    }\n",
       "\n",
       "    .dataframe tbody tr th {\n",
       "        vertical-align: top;\n",
       "    }\n",
       "\n",
       "    .dataframe thead th {\n",
       "        text-align: right;\n",
       "    }\n",
       "</style>\n",
       "<table border=\"1\" class=\"dataframe\">\n",
       "  <thead>\n",
       "    <tr style=\"text-align: right;\">\n",
       "      <th></th>\n",
       "      <th>Adj Close</th>\n",
       "      <th>Prediction</th>\n",
       "    </tr>\n",
       "    <tr>\n",
       "      <th>Date</th>\n",
       "      <th></th>\n",
       "      <th></th>\n",
       "    </tr>\n",
       "  </thead>\n",
       "  <tbody>\n",
       "    <tr>\n",
       "      <th>2022-01-21</th>\n",
       "      <td>36457.316406</td>\n",
       "      <td>NaN</td>\n",
       "    </tr>\n",
       "    <tr>\n",
       "      <th>2022-01-22</th>\n",
       "      <td>35030.250000</td>\n",
       "      <td>NaN</td>\n",
       "    </tr>\n",
       "    <tr>\n",
       "      <th>2022-01-23</th>\n",
       "      <td>36276.804688</td>\n",
       "      <td>NaN</td>\n",
       "    </tr>\n",
       "    <tr>\n",
       "      <th>2022-01-24</th>\n",
       "      <td>36654.328125</td>\n",
       "      <td>NaN</td>\n",
       "    </tr>\n",
       "    <tr>\n",
       "      <th>2022-01-25</th>\n",
       "      <td>36954.003906</td>\n",
       "      <td>NaN</td>\n",
       "    </tr>\n",
       "  </tbody>\n",
       "</table>\n",
       "</div>"
      ],
      "text/plain": [
       "               Adj Close  Prediction\n",
       "Date                                \n",
       "2022-01-21  36457.316406         NaN\n",
       "2022-01-22  35030.250000         NaN\n",
       "2022-01-23  36276.804688         NaN\n",
       "2022-01-24  36654.328125         NaN\n",
       "2022-01-25  36954.003906         NaN"
      ]
     },
     "execution_count": 3,
     "metadata": {},
     "output_type": "execute_result"
    }
   ],
   "source": [
    "future_days = 15\n",
    "df['Prediction'] = df['Adj Close'].shift(-future_days)\n",
    "df.tail()"
   ]
  },
  {
   "cell_type": "code",
   "execution_count": 4,
   "metadata": {},
   "outputs": [],
   "source": [
    "X = np.array(df.drop(['Prediction'], 1))[:-future_days]\n",
    "y = np.array(df['Prediction'])[:-future_days]"
   ]
  },
  {
   "cell_type": "markdown",
   "metadata": {},
   "source": [
    "### Price Prediction Using Decision Tree "
   ]
  },
  {
   "cell_type": "code",
   "execution_count": 5,
   "metadata": {},
   "outputs": [],
   "source": [
    "from sklearn.model_selection import train_test_split\n",
    "x_train, x_test, y_train, y_test = train_test_split(X, y, test_size = 0.2)"
   ]
  },
  {
   "cell_type": "code",
   "execution_count": 6,
   "metadata": {},
   "outputs": [],
   "source": [
    "from sklearn.tree import DecisionTreeRegressor"
   ]
  },
  {
   "cell_type": "code",
   "execution_count": 7,
   "metadata": {},
   "outputs": [],
   "source": [
    "tree = DecisionTreeRegressor().fit(x_train, y_train)"
   ]
  },
  {
   "cell_type": "code",
   "execution_count": 8,
   "metadata": {},
   "outputs": [],
   "source": [
    "x_future = df.drop(['Prediction'], 1)[:-future_days]\n",
    "x_future = x_future.tail(future_days)\n",
    "x_future = np.array(x_future)"
   ]
  },
  {
   "cell_type": "code",
   "execution_count": 9,
   "metadata": {},
   "outputs": [],
   "source": [
    "tree_prediction = tree.predict(x_future)"
   ]
  },
  {
   "cell_type": "code",
   "execution_count": 10,
   "metadata": {},
   "outputs": [
    {
     "name": "stderr",
     "output_type": "stream",
     "text": [
      "<ipython-input-10-d5809a9b6df8>:3: SettingWithCopyWarning: \n",
      "A value is trying to be set on a copy of a slice from a DataFrame.\n",
      "Try using .loc[row_indexer,col_indexer] = value instead\n",
      "\n",
      "See the caveats in the documentation: https://pandas.pydata.org/pandas-docs/stable/user_guide/indexing.html#returning-a-view-versus-a-copy\n",
      "  valid['Predictions'] = predictions\n"
     ]
    }
   ],
   "source": [
    "predictions = tree_prediction \n",
    "valid = df[X.shape[0]:]\n",
    "valid['Predictions'] = predictions"
   ]
  },
  {
   "cell_type": "markdown",
   "metadata": {},
   "source": [
    "### Prediction Results "
   ]
  },
  {
   "cell_type": "code",
   "execution_count": 11,
   "metadata": {},
   "outputs": [
    {
     "name": "stdout",
     "output_type": "stream",
     "text": [
      "DATE:  2022-01-26    ACTUAL PRICE:  36954.00390625     PREDICTED PRICE:  36954.00390625\n",
      "DATE:  2022-01-25    ACTUAL PRICE:  36654.328125     PREDICTED PRICE:  36654.328125\n",
      "DATE:  2022-01-24    ACTUAL PRICE:  36276.8046875     PREDICTED PRICE:  36954.00390625\n",
      "DATE:  2022-01-23    ACTUAL PRICE:  35030.25     PREDICTED PRICE:  35030.25\n",
      "DATE:  2022-01-22    ACTUAL PRICE:  36457.31640625     PREDICTED PRICE:  36457.31640625\n",
      "DATE:  2022-01-21    ACTUAL PRICE:  40680.41796875     PREDICTED PRICE:  40680.41796875\n",
      "DATE:  2022-01-20    ACTUAL PRICE:  41744.328125     PREDICTED PRICE:  41744.328125\n",
      "DATE:  2022-01-19    ACTUAL PRICE:  42375.6328125     PREDICTED PRICE:  37332.85546875\n",
      "DATE:  2022-01-18    ACTUAL PRICE:  42250.55078125     PREDICTED PRICE:  42250.55078125\n",
      "DATE:  2022-01-17    ACTUAL PRICE:  43113.87890625     PREDICTED PRICE:  43113.87890625\n",
      "DATE:  2022-01-16    ACTUAL PRICE:  43177.3984375     PREDICTED PRICE:  43177.3984375\n",
      "DATE:  2022-01-15    ACTUAL PRICE:  43099.69921875     PREDICTED PRICE:  43099.69921875\n",
      "DATE:  2022-01-14    ACTUAL PRICE:  42591.5703125     PREDICTED PRICE:  37332.85546875\n",
      "DATE:  2022-01-13    ACTUAL PRICE:  43949.1015625     PREDICTED PRICE:  46306.4453125\n",
      "DATE:  2022-01-12    ACTUAL PRICE:  42735.85546875     PREDICTED PRICE:  42735.85546875\n"
     ]
    }
   ],
   "source": [
    "Actual=df['Adj Close']\n",
    "Predic=predictions\n",
    "dates = pd.date_range(start=\"2020-01-01\", end=\"2022-01-26\")\n",
    "for i in range(15):\n",
    "    p=len(Predic)-1-i\n",
    "    a=len(Actual)-1-i\n",
    "    d=len(dates)-1-i\n",
    "    print(\"DATE: \",dates[d].strftime('%Y-%m-%d'),\"   ACTUAL PRICE: \",Actual[a],\"    PREDICTED PRICE: \",Predic[p])"
   ]
  },
  {
   "cell_type": "markdown",
   "metadata": {},
   "source": [
    "### Calculating Accuracy"
   ]
  },
  {
   "cell_type": "code",
   "execution_count": 12,
   "metadata": {},
   "outputs": [
    {
     "name": "stdout",
     "output_type": "stream",
     "text": [
      "97.92197874570458\n"
     ]
    }
   ],
   "source": [
    "accuracies=[]\n",
    "for i in range(15):\n",
    "    p=len(Predic)-1-i\n",
    "    a=len(Actual)-1-i\n",
    "    v1=Predic[p]\n",
    "    v2=Actual[a]\n",
    "    if v1>=v2:\n",
    "        accuracies.append(v2/v1)\n",
    "    if v2>v1:\n",
    "        accuracies.append(v1/v2)\n",
    "Overall=0\n",
    "for x in accuracies:\n",
    "    Overall=Overall+x\n",
    "Overall=(Overall/15)*100\n",
    "print(Overall)"
   ]
  },
  {
   "cell_type": "markdown",
   "metadata": {},
   "source": [
    "### Graphical Representation"
   ]
  },
  {
   "cell_type": "code",
   "execution_count": 14,
   "metadata": {},
   "outputs": [
    {
     "name": "stdout",
     "output_type": "stream",
     "text": [
      "[*********************100%***********************]  1 of 1 completed\n"
     ]
    },
    {
     "data": {
      "image/png": "[encoded data removed]",
      "text/plain": [
       "<Figure size 1440x360 with 1 Axes>"
      ]
     },
     "metadata": {},
     "output_type": "display_data"
    }
   ],
   "source": [
    "df2=yfin.download('BTC-USD',start='2021-12-01',end=\"2022-01-26\")\n",
    "plt.figure(figsize=(20,5))\n",
    "plt.title(\"Model\")\n",
    "plt.xlabel('Days')\n",
    "plt.ylabel('Close Price USD ($)')\n",
    "plt.plot(df2['Adj Close'])\n",
    "plt.plot(valid[['Adj Close', 'Predictions']])\n",
    "plt.legend([\"Original\", \"Valid\", 'Predicted'])\n",
    "plt.show()"
   ]
  },
  {
   "cell_type": "code",
   "execution_count": null,
   "metadata": {},
   "outputs": [],
   "source": []
  }
 ],
 "metadata": {
  "kernelspec": {
   "display_name": "Python 3",
   "language": "python",
   "name": "python3"
  },
  "language_info": {
   "codemirror_mode": {
    "name": "ipython",
    "version": 3
   },
   "file_extension": ".py",
   "mimetype": "text/x-python",
   "name": "python",
   "nbconvert_exporter": "python",
   "pygments_lexer": "ipython3",
   "version": "3.8.5"
  }
 },
 "nbformat": 4,
 "nbformat_minor": 4
}
