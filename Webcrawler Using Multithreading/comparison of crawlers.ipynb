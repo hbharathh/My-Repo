{
 "cells": [
  {
   "cell_type": "code",
   "execution_count": 3,
   "metadata": {},
   "outputs": [
    {
     "name": "stdout",
     "output_type": "stream",
     "text": [
      "-----------------CRAWLER 1 (20 Threads)-----------\n",
      "COMPUTATION TIME OF CRAWLER 1:  79.8 s OR 1.33 m\n",
      "\n",
      "-----------------CRAWLER 2 (10 Threads)-----------\n",
      "COMPUTATION TIME OF CRAWLER 2:  130.3 s OR 2.17 m\n",
      "COMP TIME INCREASE wrt CRAWLER 1:  63.28 % (approx 1.63 times)\n",
      "\n",
      "-----------------CRAWLER 3 (5 Threads)-----------\n",
      "COMPUTATION TIME OF CRAWLER 3:  163.9 s OR 2.73 m\n",
      "COMP TIME INCREASE wrt CRAWLER 1:  105.39 % (approx 2.05 times)\n",
      "COMP TIME INCREASE wrt CRAWLER 2:  25.79 % (approx 1.26 times)\n",
      "\n",
      "-----------------CRAWLER 4 (1 Thread)-----------\n",
      "COMPUTATION TIME OF CRAWLER 4:  284.9 s OR 4.75 m\n",
      "COMP TIME INCREASE wrt CRAWLER 1:  257.02 % (approx 3.57 times)\n",
      "COMP TIME INCREASE wrt CRAWLER 2:  118.65 % (approx 2.19 times)\n",
      "COMP TIME INCREASE wrt CRAWLER 3:  73.83 % (approx 1.74 times)\n"
     ]
    }
   ],
   "source": [
    "CT1=79.8\n",
    "CT2=130.3\n",
    "CT3=163.9\n",
    "CT4=284.9\n",
    "print(\"-----------------CRAWLER 1 (20 Threads)-----------\")\n",
    "print(\"COMPUTATION TIME OF CRAWLER 1: \",CT1,\"s OR\",round((CT1/60),2),\"m\")\n",
    "print(\"\")\n",
    "print(\"-----------------CRAWLER 2 (10 Threads)-----------\")\n",
    "d1=(CT2-CT1)/CT1\n",
    "d1=d1*100\n",
    "print(\"COMPUTATION TIME OF CRAWLER 2: \",CT2,\"s OR\",round((CT2/60),2),\"m\")\n",
    "print(\"COMP TIME INCREASE wrt CRAWLER 1: \",round(d1,2),\"% (approx\",round((CT2/CT1),2),\"times)\")\n",
    "print(\"\")\n",
    "print(\"-----------------CRAWLER 3 (5 Threads)-----------\")\n",
    "d2=(CT3-CT1)/CT1\n",
    "d2=d2*100\n",
    "d3=(CT3-CT2)/CT2\n",
    "d3=d3*100\n",
    "print(\"COMPUTATION TIME OF CRAWLER 3: \",CT3,\"s OR\",round((CT3/60),2),\"m\")\n",
    "print(\"COMP TIME INCREASE wrt CRAWLER 1: \",round(d2,2),\"% (approx\",round((CT3/CT1),2),\"times)\")\n",
    "print(\"COMP TIME INCREASE wrt CRAWLER 2: \",round(d3,2),\"% (approx\",round((CT3/CT2),2),\"times)\")\n",
    "print(\"\")\n",
    "print(\"-----------------CRAWLER 4 (1 Thread)-----------\")\n",
    "d4=(CT4-CT1)/CT1\n",
    "d4=d4*100\n",
    "d5=(CT4-CT2)/CT2\n",
    "d5=d5*100\n",
    "d6=(CT4-CT3)/CT3\n",
    "d6=d6*100\n",
    "print(\"COMPUTATION TIME OF CRAWLER 4: \",CT4,\"s OR\",round((CT4/60),2),\"m\")\n",
    "print(\"COMP TIME INCREASE wrt CRAWLER 1: \",round(d4,2),\"% (approx\",round((CT4/CT1),2),\"times)\")\n",
    "print(\"COMP TIME INCREASE wrt CRAWLER 2: \",round(d5,2),\"% (approx\",round((CT4/CT2),2),\"times)\")\n",
    "print(\"COMP TIME INCREASE wrt CRAWLER 3: \",round(d6,2),\"% (approx\",round((CT4/CT3),2),\"times)\")"
   ]
  },
  {
   "cell_type": "code",
   "execution_count": 4,
   "metadata": {
    "scrolled": true
   },
   "outputs": [
    {
     "data": {
      "image/png": "[encoded data removed]",
      "text/plain": [
       "<Figure size 432x288 with 1 Axes>"
      ]
     },
     "metadata": {
      "needs_background": "light"
     },
     "output_type": "display_data"
    }
   ],
   "source": [
    "import matplotlib.pyplot as plt\n",
    "x = [CT1,CT2,CT3,CT4]\n",
    "y = [20,10,5,1]\n",
    "plt.plot(x, y)\n",
    "plt.xlabel('COMPUTATION TIME')\n",
    "plt.ylabel('NO OF THREADS')\n",
    "plt.show()"
   ]
  }
 ],
 "metadata": {
  "kernelspec": {
   "display_name": "Python 3",
   "language": "python",
   "name": "python3"
  },
  "language_info": {
   "codemirror_mode": {
    "name": "ipython",
    "version": 3
   },
   "file_extension": ".py",
   "mimetype": "text/x-python",
   "name": "python",
   "nbconvert_exporter": "python",
   "pygments_lexer": "ipython3",
   "version": "3.8.5"
  }
 },
 "nbformat": 4,
 "nbformat_minor": 4
}
